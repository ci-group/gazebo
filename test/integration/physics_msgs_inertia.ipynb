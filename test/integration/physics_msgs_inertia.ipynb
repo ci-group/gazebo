{
 "metadata": {
  "name": ""
 },
 "nbformat": 3,
 "nbformat_minor": 0,
 "worksheets": [
  {
   "cells": [
    {
     "cell_type": "markdown",
     "metadata": {},
     "source": [
      "# InertiaMsgsTest::SetPendulumInertia\n",
      "\n",
      "This documents the effect of moment of inertia on the expected natural frequency in the pendulum test.\n",
      "\n",
      "![Pendulum dimensions](pendulum.svg)\n",
      "\n",
      "    // expected natural frequency for box pendulum (Hz)\n",
      "    // box length: 2*L\n",
      "    // box width:  L/5\n",
      "    // box is pinned at one end\n",
      "    // center of mass in center\n",
      "    // distance from pin to center of mass: L\n",
      "    // mass: m\n",
      "    // gravity magnitude: g\n",
      "    // moment of inertia about center of mass: I\n",
      "    // equations of motion:\n",
      "    // (I + m*L^2) \\ddot{\\theta} + m*g*L * sin(\\theta) = 0\n",
      "    // factor out m*L^2, divide by m*g*L\n",
      "    // m*L^2 / (m*g*L) *(I/(m*L^2) + 1) \\ddot{\\theta} + sin(\\theta) = 0\n",
      "    // L/g * (I/(m*L^2) + 1) \\ddot{\\theta} + sin(\\theta) = 0\n",
      "    // write up the equations\n"
     ]
    },
    {
     "cell_type": "code",
     "collapsed": false,
     "input": [],
     "language": "python",
     "metadata": {},
     "outputs": []
    }
   ],
   "metadata": {}
  }
 ]
}